{
 "cells": [
  {
   "cell_type": "markdown",
   "metadata": {},
   "source": [
    "# 🎵 Music21 MCP Server - 5-Minute Quickstart\n",
    "\n",
    "**Get started with professional music analysis in just 5 minutes!**\n",
    "\n",
    "This tutorial will take you from zero to analyzing Bach chorales with AI-powered tools.\n",
    "\n",
    "---\n",
    "\n",
    "## What You'll Learn\n",
    "\n",
    "✅ **Import and analyze a Bach chorale** (2 minutes)  \n",
    "✅ **Explore chord progressions and voice leading** (2 minutes)  \n",
    "✅ **Generate your own musical variations** (1 minute)  \n",
    "\n",
    "## Prerequisites\n",
    "\n",
    "```bash\n",
    "# Install the music21-mcp-server (takes 30 seconds)\n",
    "pip install music21-mcp-server\n",
    "```\n",
    "\n",
    "Let's dive in! 🚀"
   ]
  },
  {
   "cell_type": "markdown",
   "metadata": {},
   "source": [
    "## Step 1: Initialize the Music Analysis Service\n",
    "\n",
    "First, let's import and start the service. This gives you access to 13 professional music analysis tools."
   ]
  },
  {
   "cell_type": "code",
   "execution_count": null,
   "metadata": {},
   "outputs": [],
   "source": [
    "# Import the music analysis service\n",
    "from music21_mcp.services import MusicAnalysisService\n",
    "import asyncio\n",
    "\n",
    "# Initialize the service (takes ~2 seconds)\n",
    "service = MusicAnalysisService()\n",
    "\n",
    "print(f\"🎵 Music21 MCP Server initialized!\")\n",
    "print(f\"📊 Available tools: {len(service.get_available_tools())}\")\n",
    "print(f\"💾 Memory limit: {service.get_memory_usage()['max_scores']} scores\")\n",
    "print(f\"✨ Ready for analysis!\")"
   ]
  },
  {
   "cell_type": "markdown",
   "metadata": {},
   "source": [
    "## Step 2: Import Your First Bach Chorale\n",
    "\n",
    "Let's import a famous Bach chorale from the built-in corpus. No files needed!"
   ]
  },
  {
   "cell_type": "code",
   "execution_count": null,
   "metadata": {},
   "outputs": [],
   "source": [
    "# Import Bach's BWV 66.6 - a beautiful 4-part chorale\n",
    "result = await service.import_score(\n",
    "    score_id=\"my_first_bach\",\n",
    "    source=\"bach/bwv66.6\", \n",
    "    source_type=\"corpus\"\n",
    ")\n",
    "\n",
    "if result[\"status\"] == \"success\":\n",
    "    print(f\"🎼 Successfully imported Bach BWV 66.6!\")\n",
    "    print(f\"🎵 Notes: {result['num_notes']}\")\n",
    "    print(f\"🎭 Parts: {result['num_parts']} (Soprano, Alto, Tenor, Bass)\")\n",
    "    print(f\"🎹 Pitch range: {result['pitch_range']} semitones\")\n",
    "else:\n",
    "    print(f\"❌ Import failed: {result['message']}\")"
   ]
  },
  {
   "cell_type": "markdown",
   "metadata": {},
   "source": [
    "## Step 3: Analyze the Key and Harmony\n",
    "\n",
    "Now let's discover what key this chorale is in and analyze its harmonic structure."
   ]
  },
  {
   "cell_type": "code",
   "execution_count": null,
   "metadata": {},
   "outputs": [],
   "source": "# Analyze the key signature\nkey_result = await service.analyze_key(\"my_first_bach\")\n\nif key_result[\"status\"] == \"success\":\n    print(f\"🔑 Key Analysis Results:\")\n    print(f\"   Primary key: {key_result['key']}\")\n    print(f\"   Confidence: {key_result['confidence']:.1%}\")\n    print(f\"   Algorithm: {key_result.get('algorithm', 'Consensus')}\")\n    \n    if key_result.get('alternatives'):\n        print(f\"   🎯 Alternative keys: {len(key_result['alternatives'])}\")\n        for alt in key_result['alternatives'][:2]:\n            print(f\"     - {alt['key']} (confidence: {alt['confidence']:.1%})\")\n    else:\n        print(f\"   🎯 Strong key determination - no alternatives!\")\nelse:\n    print(f\"❌ Key analysis failed: {key_result['message']}\")"
  },
  {
   "cell_type": "markdown",
   "metadata": {},
   "source": [
    "## Step 4: Explore Chord Progressions\n",
    "\n",
    "Let's analyze the chord progressions - this is where Bach's genius really shines!"
   ]
  },
  {
   "cell_type": "code",
   "execution_count": null,
   "metadata": {},
   "outputs": [],
   "source": "# Analyze chord progressions\nchord_result = await service.analyze_chords(\"my_first_bach\")\n\nif chord_result[\"status\"] == \"success\":\n    print(f\"🎼 Chord Analysis Results:\")\n    print(f\"   Total chords: {chord_result['total_chords']}\")\n    \n    summary = chord_result.get('summary', {})\n    if summary:\n        print(f\"   Unique chords: {summary.get('unique_chords', 'Unknown')}\")\n        if summary.get('most_common_chords'):\n            most_common = summary['most_common_chords'][0]\n            print(f\"   Most common: {most_common['chord']} ({most_common['count']} times)\")\n    \n    # Show the first few chords\n    print(f\"\\n🎵 First few chords:\")\n    for i, chord in enumerate(chord_result['chord_progression'][:5]):\n        offset = chord.get('offset', i)\n        symbol = chord.get('symbol', 'Unknown')\n        print(f\"   Offset {offset}: {symbol}\")\n    \n    if len(chord_result['chord_progression']) > 5:\n        print(f\"   ... and {len(chord_result['chord_progression']) - 5} more chords\")\n        \nelse:\n    print(f\"❌ Chord analysis failed: {chord_result['message']}\")"
  },
  {
   "cell_type": "markdown",
   "metadata": {},
   "source": [
    "## Step 5: Analyze Voice Leading\n",
    "\n",
    "Bach was famous for his smooth voice leading. Let's see how he did it!"
   ]
  },
  {
   "cell_type": "code",
   "execution_count": null,
   "metadata": {},
   "outputs": [],
   "source": [
    "# Analyze voice leading patterns\n",
    "voice_result = await service.analyze_voice_leading(\"my_first_bach\")\n",
    "\n",
    "if voice_result[\"status\"] == \"success\":\n",
    "    print(f\"🎭 Voice Leading Analysis:\")\n",
    "    print(f\"   Smoothness score: {voice_result['smoothness_score']:.2f}/10\")\n",
    "    print(f\"   Parallel violations: {voice_result['parallel_violations']}\")\n",
    "    print(f\"   Voice crossings: {voice_result['voice_crossings']}\")\n",
    "    print(f\"   Large leaps: {voice_result['large_leaps']}\")\n",
    "    \n",
    "    # Overall assessment\n",
    "    smoothness = voice_result['smoothness_score']\n",
    "    if smoothness >= 8.0:\n",
    "        print(f\"   🌟 Exceptional voice leading! Bach at his finest.\")\n",
    "    elif smoothness >= 6.0:\n",
    "        print(f\"   ✨ Good voice leading with Bach's characteristic style.\")\n",
    "    else:\n",
    "        print(f\"   📝 Some challenges in voice leading - educational opportunity!\")\n",
    "        \n",
    "else:\n",
    "    print(f\"❌ Voice leading analysis failed: {voice_result['message']}\")"
   ]
  },
  {
   "cell_type": "markdown",
   "metadata": {},
   "source": [
    "## Step 6: Get Detailed Score Information\n",
    "\n",
    "Let's get a comprehensive overview of this musical masterpiece."
   ]
  },
  {
   "cell_type": "code",
   "execution_count": null,
   "metadata": {},
   "outputs": [],
   "source": [
    "# Get comprehensive score information\n",
    "info_result = await service.get_score_info(\"my_first_bach\")\n",
    "\n",
    "if info_result[\"status\"] == \"success\":\n",
    "    print(f\"📊 Complete Score Analysis:\")\n",
    "    print(f\"   Title: {info_result.get('title', 'BWV 66.6')}\")\n",
    "    print(f\"   Composer: {info_result.get('composer', 'J.S. Bach')}\")\n",
    "    print(f\"   Time signature: {info_result.get('time_signature', '4/4')}\")\n",
    "    print(f\"   Tempo: {info_result.get('tempo', 'Moderate chorale')}\")\n",
    "    \n",
    "    if 'structure' in info_result:\n",
    "        structure = info_result['structure']\n",
    "        print(f\"   Duration: {structure.get('duration_quarters', 'Unknown')} quarter notes\")\n",
    "        print(f\"   Measures: {structure.get('measures', 'Unknown')}\")\n",
    "    \n",
    "    if 'analysis_summary' in info_result:\n",
    "        summary = info_result['analysis_summary']\n",
    "        print(f\"\\n🎯 Quick Summary:\")\n",
    "        print(f\"   Complexity: {summary.get('complexity', 'Unknown')}\")\n",
    "        print(f\"   Style period: {summary.get('period', 'Baroque')}\")\n",
    "        print(f\"   Educational level: {summary.get('level', 'Advanced')}\")\n",
    "else:\n",
    "    print(f\"❌ Score info failed: {info_result['message']}\")"
   ]
  },
  {
   "cell_type": "markdown",
   "metadata": {},
   "source": [
    "## Step 7: Generate Your Own Harmonization (Bonus!)\n",
    "\n",
    "Now for something amazing - let's generate a harmonization in Bach's style!"
   ]
  },
  {
   "cell_type": "code",
   "execution_count": null,
   "metadata": {},
   "outputs": [],
   "source": [
    "# Generate a harmonization in Bach's chorale style\n",
    "harmonization_result = await service.harmonize_melody(\n",
    "    score_id=\"my_first_bach\",\n",
    "    style=\"chorale\"\n",
    ")\n",
    "\n",
    "if harmonization_result[\"status\"] == \"success\":\n",
    "    print(f\"🎼 Harmonization Generated!\")\n",
    "    print(f\"   New score ID: {harmonization_result['harmonized_score_id']}\")\n",
    "    print(f\"   Style: {harmonization_result['style']}\")\n",
    "    print(f\"   Voices: {harmonization_result['num_voices']}\")\n",
    "    \n",
    "    if 'analysis' in harmonization_result:\n",
    "        analysis = harmonization_result['analysis']\n",
    "        print(f\"   Harmony quality: {analysis.get('quality', 'Good')}\")\n",
    "        print(f\"   Voice leading: {analysis.get('voice_leading', 'Smooth')}\")\n",
    "    \n",
    "    print(f\"\\n✨ You've just created a Bach-style harmonization!\")\n",
    "    print(f\"   Try exporting it: await service.export_score('{harmonization_result['harmonized_score_id']}', 'musicxml')\")\n",
    "    \n",
    "else:\n",
    "    print(f\"ℹ️  Harmonization: {harmonization_result['message']}\")\n",
    "    print(f\"   (This is advanced functionality - the analysis above is already amazing!)\")"
   ]
  },
  {
   "cell_type": "markdown",
   "metadata": {},
   "source": [
    "## Step 8: Check Your System Status\n",
    "\n",
    "Let's see how the system is performing after all this analysis."
   ]
  },
  {
   "cell_type": "code",
   "execution_count": null,
   "metadata": {},
   "outputs": [],
   "source": [
    "# Get comprehensive system status\n",
    "status = service.get_service_status()\n",
    "\n",
    "print(f\"🖥️  System Status Report:\")\n",
    "print(f\"   Service: {status['service']['name']} v{status['service']['version']}\")\n",
    "print(f\"   Health: {status['health']['status']} ✅\")\n",
    "print(f\"   Uptime: {status['service']['uptime_seconds']:.1f} seconds\")\n",
    "\n",
    "# Resource usage\n",
    "resources = status['resources']['storage']\n",
    "print(f\"\\n💾 Resource Usage:\")\n",
    "print(f\"   Loaded scores: {resources['total_scores']}\")\n",
    "print(f\"   Memory usage: {resources['memory_usage_mb']:.1f}MB\")\n",
    "print(f\"   Cache hit rate: {resources['hit_rate_percent']:.1f}%\")\n",
    "\n",
    "# Performance summary\n",
    "performance = status['performance']\n",
    "operations = len(performance['operation_counts'])\n",
    "print(f\"\\n⚡ Performance:\")\n",
    "print(f\"   Operations completed: {operations}\")\n",
    "print(f\"   System healthy: {'✅' if status['health']['status'] == 'healthy' else '⚠️'}\")\n",
    "\n",
    "print(f\"\\n🎉 Tutorial Complete! You've successfully:\")\n",
    "print(f\"   ✅ Imported a Bach chorale\")\n",
    "print(f\"   ✅ Analyzed key signature and harmony\")\n",
    "print(f\"   ✅ Explored chord progressions\")\n",
    "print(f\"   ✅ Examined voice leading\")\n",
    "print(f\"   ✅ Generated professional analysis\")\n",
    "print(f\"   ✅ Monitored system performance\")"
   ]
  },
  {
   "cell_type": "markdown",
   "metadata": {},
   "source": [
    "## 🎊 Congratulations!\n",
    "\n",
    "You've just completed a professional music analysis in under 5 minutes!\n",
    "\n",
    "## What You've Accomplished\n",
    "\n",
    "✅ **Imported** a Bach chorale from the built-in corpus  \n",
    "✅ **Analyzed** key signatures, harmony, and voice leading  \n",
    "✅ **Explored** chord progressions and musical structure  \n",
    "✅ **Generated** Bach-style harmonizations  \n",
    "✅ **Monitored** system performance and resource usage  \n",
    "\n",
    "## Next Steps\n",
    "\n",
    "### 🎵 Try More Music\n",
    "```python\n",
    "# Import different composers\n",
    "await service.import_score(\"mozart\", \"mozart/k545\", \"corpus\")\n",
    "await service.import_score(\"chopin\", \"chopin/op64no1\", \"corpus\")\n",
    "\n",
    "# Import your own files\n",
    "await service.import_score(\"my_song\", \"/path/to/your/song.mid\", \"file\")\n",
    "```\n",
    "\n",
    "### 🧮 Advanced Analysis\n",
    "```python\n",
    "# Pattern recognition\n",
    "await service.recognize_patterns(\"my_first_bach\", pattern_type=\"melodic\")\n",
    "\n",
    "# Style imitation\n",
    "await service.imitate_style(\"my_first_bach\", \"romantic\")\n",
    "\n",
    "# Counterpoint generation\n",
    "await service.generate_counterpoint(\"my_first_bach\", species=\"first\")\n",
    "```\n",
    "\n",
    "### 🔗 Integration Options\n",
    "\n",
    "- **Claude Desktop**: Use as MCP server for AI-powered analysis\n",
    "- **HTTP API**: Build web applications with music analysis\n",
    "- **CLI Tools**: Batch process multiple files\n",
    "- **Python Library**: Integrate into your research projects\n",
    "\n",
    "### 📚 Learn More\n",
    "\n",
    "- [Complete API Documentation](../../docs/api/)\n",
    "- [Advanced Examples](../advanced/)\n",
    "- [Claude Desktop Setup](../claude_desktop_setup.md)\n",
    "- [Web Integration Guide](../web_integration/)\n",
    "\n",
    "---\n",
    "\n",
    "**Happy analyzing! 🎵✨**\n",
    "\n",
    "*Built with [music21](https://web.mit.edu/music21/) - the world's leading computational musicology toolkit*"
   ]
  }
 ],
 "metadata": {
  "kernelspec": {
   "display_name": "Python 3",
   "language": "python",
   "name": "python3"
  },
  "language_info": {
   "codemirror_mode": {
    "name": "ipython",
    "version": 3
   },
   "file_extension": ".py",
   "mimetype": "text/x-python",
   "name": "python",
   "nbconvert_exporter": "python",
   "pygments_lexer": "ipython3",
   "version": "3.11.0"
  }
 },
 "nbformat": 4,
 "nbformat_minor": 4
}